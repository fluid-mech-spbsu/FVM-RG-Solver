{
 "cells": [
  {
   "cell_type": "code",
   "execution_count": 1,
   "id": "2e5198d5",
   "metadata": {},
   "outputs": [
    {
     "name": "stderr",
     "output_type": "stream",
     "text": [
      "C:\\Users\\zarmm\\anaconda3\\lib\\site-packages\\scipy\\__init__.py:146: UserWarning: A NumPy version >=1.16.5 and <1.23.0 is required for this version of SciPy (detected version 1.25.2\n",
      "  warnings.warn(f\"A NumPy version >={np_minversion} and <{np_maxversion}\"\n"
     ]
    },
    {
     "name": "stdout",
     "output_type": "stream",
     "text": [
      "Temperature changes from 250 to 1999\n",
      "Pressure changes from 5 to 499\n",
      "Energy changes from 0.0700428745158648 to 29.88182219811612\n"
     ]
    }
   ],
   "source": [
    "from sklearn.model_selection import train_test_split\n",
    "import numpy as np\n",
    "import pandas as pd\n",
    "\n",
    "# df_X = pd.DataFrame(X, columns = ['p', 'T'])\n",
    "# df_y = pd.DataFrame(y, columns = ['E'])\n",
    "\n",
    "df_X = pd.read_csv(\"df_y_energy.csv\")\n",
    "df_y = pd.read_csv(\"df_X_macroparams.csv\")\n",
    "\n",
    "min_T = min(df_y['T'])\n",
    "max_T = max(df_y['T'])\n",
    "print(f\"Temperature changes from {min_T} to {max_T}\")\n",
    "\n",
    "min_p = min(df_y['p'])\n",
    "max_p = max(df_y['p'])\n",
    "print(f\"Pressure changes from {min_p} to {max_p}\")\n",
    "\n",
    "min_E = min(df_X['E'])\n",
    "max_E = max(df_X['E'])\n",
    "print(f\"Energy changes from {min_E} to {max_E}\")\n",
    "\n",
    "# df_X.to_csv('df_X_macroparams.csv', index=False)  \n",
    "# df_y.to_csv('df_y_energy.csv', index=False)  "
   ]
  },
  {
   "cell_type": "code",
   "execution_count": 3,
   "id": "1ceb3849",
   "metadata": {},
   "outputs": [],
   "source": [
    "from sklearn.preprocessing import MinMaxScaler\n",
    "\n",
    "scaler = MinMaxScaler()\n",
    "df_X[['E']] = scaler.fit_transform(df_X[['E']])\n",
    "\n",
    "scaler = MinMaxScaler()\n",
    "df_y[['p', 'T']] = scaler.fit_transform(df_y[['p', 'T']])"
   ]
  },
  {
   "cell_type": "code",
   "execution_count": 4,
   "id": "7f6d307e",
   "metadata": {},
   "outputs": [
    {
     "name": "stdout",
     "output_type": "stream",
     "text": [
      "Train, validation, test lengths = 857587, 8576, 87\n"
     ]
    }
   ],
   "source": [
    "X_train, X_test, y_train, y_test = train_test_split(df_X, df_y, test_size=0.01, random_state=42)\n",
    "X_valid, X_test, y_valid, y_test = train_test_split(X_test, y_test, test_size=0.01, random_state=42)\n",
    "\n",
    "print(f'Train, validation, test lengths = {X_train.shape[0]}, {X_valid.shape[0]}, {X_test.shape[0]}')"
   ]
  },
  {
   "cell_type": "code",
   "execution_count": 5,
   "id": "bdc89952",
   "metadata": {},
   "outputs": [],
   "source": [
    "from torch.utils.data import Dataset, DataLoader\n",
    "\n",
    "class Energy(Dataset):\n",
    "    def __init__(self, X, y=None):\n",
    "        self.X = X\n",
    "        self.y = y\n",
    "        \n",
    "    def __len__(self):\n",
    "        return len(self.X.index)\n",
    "    \n",
    "    def __getitem__(self, index):\n",
    "        x = self.X.iloc[index, ].values\n",
    "        x = torch.tensor(x)\n",
    "        x = x.to(torch.float32)\n",
    "            \n",
    "        if self.y is not None:\n",
    "            output = torch.tensor(self.y.iloc[index])\n",
    "            output = output.to(torch.float32)\n",
    "            return x, output\n",
    "        else:\n",
    "            return x\n",
    "\n",
    "train_dataset = Energy(X=X_train, y=y_train)\n",
    "valid_dataset = Energy(X=X_valid, y=y_valid)\n",
    "test_dataset = Energy(X=X_test)\n",
    "\n",
    "train_loader = DataLoader(dataset=train_dataset, batch_size=128, shuffle=True)\n",
    "valid_loader = DataLoader(dataset=valid_dataset, batch_size=128, shuffle=False)\n",
    "test_loader = DataLoader(dataset=test_dataset, batch_size=128, shuffle=False)"
   ]
  },
  {
   "cell_type": "code",
   "execution_count": 10,
   "id": "4741848a",
   "metadata": {},
   "outputs": [
    {
     "name": "stdout",
     "output_type": "stream",
     "text": [
      "NN(\n",
      "  (layers): Sequential(\n",
      "    (0): Linear(in_features=1, out_features=50, bias=True)\n",
      "    (1): Tanh()\n",
      "    (2): Linear(in_features=50, out_features=2, bias=True)\n",
      "  )\n",
      ")\n"
     ]
    }
   ],
   "source": [
    "import torch\n",
    "import torch.nn as nn\n",
    "\n",
    "class NN(nn.Module):\n",
    "    def __init__(self):\n",
    "        super(NN, self).__init__()\n",
    "        self.layers = nn.Sequential(\n",
    "            nn.Linear(1, 50),\n",
    "            nn.Tanh(),\n",
    "#             nn.Dropout(0.2),\n",
    "            nn.Linear(50, 2)\n",
    "        )\n",
    "        \n",
    "    def forward(self, x):\n",
    "        x = self.layers(x)\n",
    "        return x\n",
    "\n",
    "model = NN()\n",
    "print(model)\n",
    "\n",
    "optimizer = torch.optim.Adam(model.parameters(), lr=0.001)\n",
    "loss_fn = nn.MSELoss()"
   ]
  },
  {
   "cell_type": "code",
   "execution_count": null,
   "id": "997e5ee5",
   "metadata": {},
   "outputs": [],
   "source": [
    "mean_train_losses = []\n",
    "mean_valid_losses = []\n",
    "valid_acc_list = []\n",
    "\n",
    "epochs = 20\n",
    "\n",
    "for epoch in range(epochs):\n",
    "    model.train()\n",
    "    train_losses = []\n",
    "    valid_losses = []\n",
    "    for i, (xs, output) in enumerate(train_loader):\n",
    "        optimizer.zero_grad()\n",
    "        outputs = model(xs)\n",
    "\n",
    "        loss = loss_fn(outputs, output)\n",
    "        loss.backward()\n",
    "        optimizer.step()\n",
    "        \n",
    "        train_losses.append(loss.item())\n",
    "\n",
    "            \n",
    "    model.eval()\n",
    "\n",
    "    with torch.no_grad():\n",
    "        for i, (xs, output) in enumerate(valid_loader):\n",
    "            outputs = model(xs)\n",
    "            loss = loss_fn(outputs, output)\n",
    "            valid_losses.append(loss.item())\n",
    "               \n",
    "    mean_train_losses.append(np.mean(train_losses))\n",
    "    mean_valid_losses.append(np.mean(valid_losses))\n",
    "    \n",
    "    print('epoch : {}, train loss : {:.6f}, valid loss : {:.6f}'.format(epoch+1, np.mean(train_losses), np.mean(valid_losses)))"
   ]
  }
 ],
 "metadata": {
  "kernelspec": {
   "display_name": "Python 3 (ipykernel)",
   "language": "python",
   "name": "python3"
  },
  "language_info": {
   "codemirror_mode": {
    "name": "ipython",
    "version": 3
   },
   "file_extension": ".py",
   "mimetype": "text/x-python",
   "name": "python",
   "nbconvert_exporter": "python",
   "pygments_lexer": "ipython3",
   "version": "3.9.13"
  }
 },
 "nbformat": 4,
 "nbformat_minor": 5
}
